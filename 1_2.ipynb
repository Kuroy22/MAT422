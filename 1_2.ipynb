{
  "nbformat": 4,
  "nbformat_minor": 0,
  "metadata": {
    "colab": {
      "provenance": [],
      "authorship_tag": "ABX9TyNZdKTmi9cgQicBi5mCFcwB",
      "include_colab_link": true
    },
    "kernelspec": {
      "name": "python3",
      "display_name": "Python 3"
    },
    "language_info": {
      "name": "python"
    }
  },
  "cells": [
    {
      "cell_type": "markdown",
      "metadata": {
        "id": "view-in-github",
        "colab_type": "text"
      },
      "source": [
        "<a href=\"https://colab.research.google.com/github/Kuroy22/MAT422/blob/main/1_2.ipynb\" target=\"_parent\"><img src=\"https://colab.research.google.com/assets/colab-badge.svg\" alt=\"Open In Colab\"/></a>"
      ]
    },
    {
      "cell_type": "markdown",
      "source": [
        "Chapter 1.2 Takeaways:\n",
        "Gram-Schmidt Process\n",
        "Eigenvalues and Eigenvectors\n",
        "\n",
        "Gram-Schmidt Process"
      ],
      "metadata": {
        "id": "YOUKa6y4mOIo"
      }
    },
    {
      "cell_type": "code",
      "source": [
        "import matplotlib.pyplot as plt\n",
        "import numpy as np\n",
        "\n",
        "#random matrix which will be used for Gram Schmidt and Eignenvalues/Eignenvectors\n",
        "A=np.random.rand(3,3)*100\n",
        "print(A)"
      ],
      "metadata": {
        "colab": {
          "base_uri": "https://localhost:8080/"
        },
        "id": "YZY9dXHcmtHz",
        "outputId": "3241f7cb-c0dc-43b3-fcc7-c44c27b7ff78"
      },
      "execution_count": 46,
      "outputs": [
        {
          "output_type": "stream",
          "name": "stdout",
          "text": [
            "[[27.46630817 32.02345694 49.94090826]\n",
            " [39.73545908 97.58648098 14.6307699 ]\n",
            " [ 8.68889671 97.03335476 93.94090208]]\n",
            "[[99.06020124 14.86633999 12.37768885]\n",
            " [35.19001397 42.72462177 84.66279746]\n",
            " [23.89310862 77.81261753 53.88717756]]\n"
          ]
        }
      ]
    },
    {
      "cell_type": "markdown",
      "source": [
        "Function to perform Gram Schmidt"
      ],
      "metadata": {
        "id": "81eUxUrdn0g6"
      }
    },
    {
      "cell_type": "code",
      "source": [
        "\n",
        "#Gram Schmidt\n",
        "def gs(A):\n",
        "\n",
        "\n",
        "  temp= np.copy(A)\n",
        "\n",
        "  Final = np.zeros(A.shape)\n",
        "  Final[:,0]= A[:,0] /np.linalg.norm(A[:,0])\n",
        "\n",
        "  for i in range(1, temp.shape[1]):\n",
        "    temp2=A[:,i]\n",
        "\n",
        "    for j in range(i):\n",
        "        temp2 -= np.multiply((np.dot(temp[:,j], A[:,i]) / np.dot(temp[:,j], temp[:,j])),temp[:,j])\n",
        "    temp[:,i]=temp2\n",
        "    Final[:,i]=temp[:,i]/ np.linalg.norm(temp[:,i])\n",
        "  return Final\n",
        "print(\"Gram-Schmidt of A\")\n",
        "print(gs(A))\n"
      ],
      "metadata": {
        "colab": {
          "base_uri": "https://localhost:8080/"
        },
        "id": "mBdix0Z1pxYb",
        "outputId": "729d558a-4f97-4baf-eced-14a1ce160007"
      },
      "execution_count": 45,
      "outputs": [
        {
          "output_type": "stream",
          "name": "stdout",
          "text": [
            "Gram-Schmidt of A\n",
            "[[ 0.65311428 -0.74016311  0.160001  ]\n",
            " [ 0.48732452  0.57253849  0.65932882]\n",
            " [ 0.5796176   0.35264466 -0.73463269]]\n"
          ]
        }
      ]
    },
    {
      "cell_type": "markdown",
      "source": [
        "Eignvalues and Eigenvectors\n",
        "\n",
        "\n",
        "numpy has  a built in function to calculate Eignvalues and Eignevectors"
      ],
      "metadata": {
        "id": "cB25fRer561b"
      }
    },
    {
      "cell_type": "code",
      "source": [
        "from numpy.linalg import eig\n",
        "val, vec = eig(A)\n",
        "print('Eigenvalue: ',val)\n",
        "print('Eigenvector: ',vec)\n",
        "#values with 0j are to indicate that it is a complex value"
      ],
      "metadata": {
        "colab": {
          "base_uri": "https://localhost:8080/"
        },
        "id": "Exzq77PB5-wh",
        "outputId": "4134e9a4-083b-47ef-dd98-18929a0177f7"
      },
      "execution_count": 49,
      "outputs": [
        {
          "output_type": "stream",
          "name": "stdout",
          "text": [
            "Eigenvalue:  [157.07499594 +0.j         30.95934765+24.8491714j\n",
            "  30.95934765-24.8491714j]\n",
            "Eigenvector:  [[-0.41607155+0.j          0.6808178 +0.j          0.6808178 -0.j        ]\n",
            " [-0.4694513 +0.j         -0.3762623 -0.24990721j -0.3762623 +0.24990721j]\n",
            " [-0.77878107+0.j          0.28888828+0.49900276j  0.28888828-0.49900276j]]\n"
          ]
        }
      ]
    }
  ]
}