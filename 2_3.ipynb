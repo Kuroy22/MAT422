{
  "nbformat": 4,
  "nbformat_minor": 0,
  "metadata": {
    "colab": {
      "provenance": [],
      "authorship_tag": "ABX9TyN6z08ZmJHGX7njbs1tVrok",
      "include_colab_link": true
    },
    "kernelspec": {
      "name": "python3",
      "display_name": "Python 3"
    },
    "language_info": {
      "name": "python"
    }
  },
  "cells": [
    {
      "cell_type": "markdown",
      "metadata": {
        "id": "view-in-github",
        "colab_type": "text"
      },
      "source": [
        "<a href=\"https://colab.research.google.com/github/Kuroy22/MAT422/blob/main/2_3.ipynb\" target=\"_parent\"><img src=\"https://colab.research.google.com/assets/colab-badge.svg\" alt=\"Open In Colab\"/></a>"
      ]
    },
    {
      "cell_type": "markdown",
      "source": [
        "2.3\n",
        "\n",
        "Visializes join probability distribution using python:\n"
      ],
      "metadata": {
        "id": "2_l5TR6TSIfp"
      }
    },
    {
      "cell_type": "code",
      "source": [
        "import numpy as np\n",
        "import seaborn as sb\n",
        "import pandas as pd\n",
        "\n",
        "#create an array of 50 random numbers from a nroaml distribution with a mean of 0\n",
        "x = np.random.normal(size = 50)\n",
        "y = np.random.normal(size = 50)\n",
        "\n",
        "#use dataframe to build a normal distribution\n",
        "df=pd.DataFrame({'x' : x, 'y' : y})\n",
        "\n",
        "#use jointplot to plot the dataframe\n",
        "sb.jointplot(x='x' , y='y', data=df)"
      ],
      "metadata": {
        "colab": {
          "base_uri": "https://localhost:8080/",
          "height": 624
        },
        "id": "1hKKb4IZS0Ma",
        "outputId": "8342d84c-557d-42a6-b8bb-a2774dd0533e"
      },
      "execution_count": 19,
      "outputs": [
        {
          "output_type": "execute_result",
          "data": {
            "text/plain": [
              "<seaborn.axisgrid.JointGrid at 0x79ac81e27130>"
            ]
          },
          "metadata": {},
          "execution_count": 19
        },
        {
          "output_type": "display_data",
          "data": {
            "text/plain": [
              "<Figure size 600x600 with 3 Axes>"
            ],
            "image/png": "[encoded data removed]"
          },
          "metadata": {}
        }
      ]
    },
    {
      "cell_type": "markdown",
      "source": [
        "Correlation and Dependence\n",
        "\n",
        "\n",
        "Covariance:"
      ],
      "metadata": {
        "id": "1TIICrC1esmF"
      }
    },
    {
      "cell_type": "code",
      "source": [
        "\n",
        "\n",
        "\n",
        "# calculate the covariance between two variables\n",
        "from numpy.random import randn\n",
        "from numpy.random import seed\n",
        "from numpy import cov\n",
        "# prepare data\n",
        "data1 = 20 * randn(1000) + 100\n",
        "data2 = data1 + (10 * randn(1000) + 50)\n",
        "# calculate covariance matrix\n",
        "covariance = cov(data1, data2)\n",
        "print(covariance)\n"
      ],
      "metadata": {
        "colab": {
          "base_uri": "https://localhost:8080/"
        },
        "id": "Llvven7se8O5",
        "outputId": "15107952-c711-47e7-f233-d45706d1e5fc"
      },
      "execution_count": 33,
      "outputs": [
        {
          "output_type": "stream",
          "name": "stdout",
          "text": [
            "[[377.99860125 384.19134307]\n",
            " [384.19134307 492.24243533]]\n"
          ]
        }
      ]
    },
    {
      "cell_type": "markdown",
      "source": [
        "Pearson's correlation example:"
      ],
      "metadata": {
        "id": "xCjQged4bkcZ"
      }
    },
    {
      "cell_type": "code",
      "source": [
        "\n",
        "# calculate the Pearson's correlation between two variables\n",
        "from numpy.random import randn\n",
        "from numpy.random import seed\n",
        "from scipy.stats import pearsonr\n",
        "# prepare data\n",
        "data1 = 20 * randn(1000) + 100\n",
        "data2 = data1 + (10 * randn(1000) + 50)\n",
        "# calculate Pearson's correlation\n",
        "corr, _ = pearsonr(data1, data2)\n",
        "print('Pearsons correlation: %.3f' % corr)"
      ],
      "metadata": {
        "colab": {
          "base_uri": "https://localhost:8080/"
        },
        "id": "CQWuDElFbphS",
        "outputId": "a6024498-19c6-4d24-ab83-c08dd40acdd4"
      },
      "execution_count": 31,
      "outputs": [
        {
          "output_type": "stream",
          "name": "stdout",
          "text": [
            "Pearsons correlation: 0.898\n"
          ]
        }
      ]
    },
    {
      "cell_type": "markdown",
      "source": [
        "Random Samples example:"
      ],
      "metadata": {
        "id": "QxVdEdRbeLCe"
      }
    },
    {
      "cell_type": "code",
      "source": [
        "\n",
        "# import random\n",
        "import random\n",
        "\n",
        "\n",
        "# Prints list of random items of\n",
        "# length 3 from the given list.\n",
        "list1 = [1, 2, 3, 4, 5, 6]\n",
        "print(\"With list:\", random.sample(list1, 3))\n",
        "\n",
        "# Prints list of random items of\n",
        "# length 4 from the given string.\n",
        "string = \"TestPostPleaseIgnore\"\n",
        "print(\"With string:\", random.sample(string, 4))\n"
      ],
      "metadata": {
        "colab": {
          "base_uri": "https://localhost:8080/"
        },
        "id": "JDD8Iww-fM_O",
        "outputId": "ab6891c5-cc45-485d-f5f7-7f4b6fa1f9b0"
      },
      "execution_count": 38,
      "outputs": [
        {
          "output_type": "stream",
          "name": "stdout",
          "text": [
            "With list: [2, 5, 1]\n",
            "With string: ['e', 't', 's', 'n']\n"
          ]
        }
      ]
    }
  ]
}